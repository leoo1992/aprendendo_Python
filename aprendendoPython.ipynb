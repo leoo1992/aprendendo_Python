{
  "nbformat": 4,
  "nbformat_minor": 0,
  "metadata": {
    "colab": {
      "provenance": [],
      "history_visible": true,
      "authorship_tag": "ABX9TyN0ukxXGJ2Pj4OZdY9lppZn",
      "include_colab_link": true
    },
    "kernelspec": {
      "name": "python3",
      "display_name": "Python 3"
    },
    "language_info": {
      "name": "python"
    }
  },
  "cells": [
    {
      "cell_type": "markdown",
      "metadata": {
        "id": "view-in-github",
        "colab_type": "text"
      },
      "source": [
        "<a href=\"https://colab.research.google.com/github/leoo1992/aprendendo_Python/blob/main/aprendendoPython.ipynb\" target=\"_parent\"><img src=\"https://colab.research.google.com/assets/colab-badge.svg\" alt=\"Open In Colab\"/></a>"
      ]
    },
    {
      "cell_type": "code",
      "execution_count": 1,
      "metadata": {
        "colab": {
          "base_uri": "https://localhost:8080/"
        },
        "id": "85oF70viWihO",
        "outputId": "a4dcc057-e907-4795-bc23-3af541ba1802"
      },
      "outputs": [
        {
          "output_type": "stream",
          "name": "stdout",
          "text": [
            "o valor de é:  10\n"
          ]
        }
      ],
      "source": [
        "x = 10\n",
        "print(\"o valor de é: \", x)"
      ]
    },
    {
      "cell_type": "code",
      "source": [
        "print(\"ola mundo\")"
      ],
      "metadata": {
        "colab": {
          "base_uri": "https://localhost:8080/"
        },
        "id": "U25LaK94XqZ7",
        "outputId": "d47da233-ab43-4e6f-9293-79a367dc4109"
      },
      "execution_count": 2,
      "outputs": [
        {
          "output_type": "stream",
          "name": "stdout",
          "text": [
            "ola mundo\n"
          ]
        }
      ]
    },
    {
      "cell_type": "code",
      "source": [
        "num1 = int(input(\"Digite um valor:\"))\n",
        "num2 = int(input(\"Digite outro valor:\"))\n",
        "soma = (num1 + num2)\n",
        "print(\"o valor da soma do numero 1 com o numero 2 é : \", soma)\n",
        "print(\"o valor da soma do numero 1 com o numero 2 é : \", num1 + num2)"
      ],
      "metadata": {
        "colab": {
          "base_uri": "https://localhost:8080/"
        },
        "id": "4JGx_185ZAZD",
        "outputId": "f8b5998d-8999-4337-c5a1-42a8234122ff"
      },
      "execution_count": 4,
      "outputs": [
        {
          "output_type": "stream",
          "name": "stdout",
          "text": [
            "Digite um valor:10\n",
            "Digite outro valor:20\n",
            "o valor da soma do numero 1 com o numero 2 é :  30\n",
            "o valor da soma do numero 1 com o numero 2 é :  30\n"
          ]
        }
      ]
    },
    {
      "cell_type": "code",
      "source": [
        "import time\n",
        "\n",
        "nome = input(\"Digite seu nome:\")\n",
        "anoNascimento = int(input(\"Digite seu ano de nascimento:\"))\n",
        "anoAtual = int(time.strftime(\"%Y\"))\n",
        "idade= (anoAtual - anoNascimento)\n",
        "\n",
        "menorIdade = \"voce é menor de idade.\"\n",
        "maiorIdade = \"voce é maior de idade.\"\n",
        "if idade < 18 : \n",
        "  print(nome,\"a sua idade é\",idade,\"e\",menorIdade)\n",
        "else:\n",
        "  print(nome,\"a sua idade é\",idade,\"e\",maiorIdade) "
      ],
      "metadata": {
        "colab": {
          "base_uri": "https://localhost:8080/"
        },
        "id": "iavZSV_baeUL",
        "outputId": "15dbf1f2-2d29-4f43-e303-497fbb958ba0"
      },
      "execution_count": 7,
      "outputs": [
        {
          "output_type": "stream",
          "name": "stdout",
          "text": [
            "Digite seu nome:Leoanrdo\n",
            "Digite seu ano de nascimento:1992\n",
            "Leoanrdo a sua idade é 30 e voce é maior de idade.\n"
          ]
        }
      ]
    }
  ]
}