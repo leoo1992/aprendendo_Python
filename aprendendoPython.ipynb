{
  "nbformat": 4,
  "nbformat_minor": 0,
  "metadata": {
    "colab": {
      "provenance": [],
      "authorship_tag": "ABX9TyOiyK3QuKdiS3hb0gX1DQeA",
      "include_colab_link": true
    },
    "kernelspec": {
      "name": "python3",
      "display_name": "Python 3"
    },
    "language_info": {
      "name": "python"
    }
  },
  "cells": [
    {
      "cell_type": "markdown",
      "metadata": {
        "id": "view-in-github",
        "colab_type": "text"
      },
      "source": [
        "<a href=\"https://colab.research.google.com/github/leoo1992/aprendendo_Python/blob/main/aprendendoPython.ipynb\" target=\"_parent\"><img src=\"https://colab.research.google.com/assets/colab-badge.svg\" alt=\"Open In Colab\"/></a>"
      ]
    },
    {
      "cell_type": "code",
      "execution_count": 1,
      "metadata": {
        "colab": {
          "base_uri": "https://localhost:8080/"
        },
        "id": "85oF70viWihO",
        "outputId": "a4dcc057-e907-4795-bc23-3af541ba1802"
      },
      "outputs": [
        {
          "output_type": "stream",
          "name": "stdout",
          "text": [
            "o valor de é:  10\n"
          ]
        }
      ],
      "source": [
        "x = 10\n",
        "print(\"o valor de é: \", x)"
      ]
    },
    {
      "cell_type": "code",
      "source": [
        "print(\"ola mundo\")"
      ],
      "metadata": {
        "colab": {
          "base_uri": "https://localhost:8080/"
        },
        "id": "U25LaK94XqZ7",
        "outputId": "d47da233-ab43-4e6f-9293-79a367dc4109"
      },
      "execution_count": 2,
      "outputs": [
        {
          "output_type": "stream",
          "name": "stdout",
          "text": [
            "ola mundo\n"
          ]
        }
      ]
    },
    {
      "cell_type": "code",
      "source": [
        "num1 = int(input(\"Digite um valor: \"))\n",
        "num2 = int(input(\"Digite outro valor: \"))\n",
        "soma = (num1 + num2)\n",
        "print(\"o valor da soma do numero 1 com o numero 2 é : \", soma)\n",
        "print(\"o valor da soma do numero 1 com o numero 2 é : \", num1 + num2)"
      ],
      "metadata": {
        "colab": {
          "base_uri": "https://localhost:8080/"
        },
        "id": "4JGx_185ZAZD",
        "outputId": "f8b5998d-8999-4337-c5a1-42a8234122ff"
      },
      "execution_count": 4,
      "outputs": [
        {
          "output_type": "stream",
          "name": "stdout",
          "text": [
            "Digite um valor:10\n",
            "Digite outro valor:20\n",
            "o valor da soma do numero 1 com o numero 2 é :  30\n",
            "o valor da soma do numero 1 com o numero 2 é :  30\n"
          ]
        }
      ]
    },
    {
      "cell_type": "code",
      "source": [
        "import time\n",
        "\n",
        "nome = input(\"Digite seu nome: \")\n",
        "anoNascimento = int(input(\"Digite seu ano de nascimento:\"))\n",
        "anoAtual = int(time.strftime(\"%Y\"))\n",
        "idade= (anoAtual - anoNascimento)\n",
        "\n",
        "menorIdade = \"voce é menor de idade.\"\n",
        "maiorIdade = \"voce é maior de idade.\"\n",
        "if idade < 18 : \n",
        "  print(nome,\", a sua idade é\",idade,\", e\",menorIdade)\n",
        "else:\n",
        "  print(nome,\", a sua idade é\",idade,\", e\",maiorIdade) "
      ],
      "metadata": {
        "colab": {
          "base_uri": "https://localhost:8080/"
        },
        "id": "iavZSV_baeUL",
        "outputId": "15dbf1f2-2d29-4f43-e303-497fbb958ba0"
      },
      "execution_count": 7,
      "outputs": [
        {
          "output_type": "stream",
          "name": "stdout",
          "text": [
            "Digite seu nome:Leoanrdo\n",
            "Digite seu ano de nascimento:1992\n",
            "Leoanrdo a sua idade é 30 e voce é maior de idade.\n"
          ]
        }
      ]
    },
    {
      "cell_type": "code",
      "source": [
        "numero = int (input(\"Digite um numero: \"))\n",
        "if numero == 1:\n",
        "  print(\"um\")\n",
        "elif numero == 2:\n",
        "  print(\"dois\")\n",
        "elif numero == 3:\n",
        "  print(\"tres\")\n",
        "else:\n",
        "  print(\"Voce digitou um numero diferente de 1, 2 ou 3 ...\")        "
      ],
      "metadata": {
        "colab": {
          "base_uri": "https://localhost:8080/"
        },
        "id": "2kI60NjzhrQ3",
        "outputId": "a5a02707-43da-4f0d-d68c-4d00f4de9ed1"
      },
      "execution_count": 10,
      "outputs": [
        {
          "output_type": "stream",
          "name": "stdout",
          "text": [
            "Digite um numero: 5\n",
            "Voce digitou um numero diferente de 1, 2 ou 3 :\n"
          ]
        }
      ]
    },
    {
      "cell_type": "code",
      "source": [
        "x = 0\n",
        "while x <= 10:\n",
        "  print(x)\n",
        "  x= x + 2"
      ],
      "metadata": {
        "colab": {
          "base_uri": "https://localhost:8080/"
        },
        "id": "inC5Q3WXjA7v",
        "outputId": "769c6f30-601b-47be-f7b6-2d61e0dccd21"
      },
      "execution_count": 13,
      "outputs": [
        {
          "output_type": "stream",
          "name": "stdout",
          "text": [
            "0\n",
            "2\n",
            "4\n",
            "6\n",
            "8\n",
            "10\n"
          ]
        }
      ]
    },
    {
      "cell_type": "code",
      "source": [
        "valores = [5,10,20,30,40,50]\n",
        "print(valores[2])\n"
      ],
      "metadata": {
        "colab": {
          "base_uri": "https://localhost:8080/"
        },
        "id": "7m-ld_9LkRol",
        "outputId": "43b40312-16c8-439f-8c5f-c3d23dd3dec5"
      },
      "execution_count": 26,
      "outputs": [
        {
          "output_type": "stream",
          "name": "stdout",
          "text": [
            "20\n"
          ]
        }
      ]
    },
    {
      "cell_type": "code",
      "source": [
        "notas=[0,0,0]\n",
        "i=0\n",
        "soma=0\n",
        "while i < 3:\n",
        "  notas[i] = int(input(\"Digite a nota: \"))\n",
        "  soma =  soma + notas[i]\n",
        "  i=(i+1)\n",
        "print (\"A média é\",(soma/3))"
      ],
      "metadata": {
        "id": "bZygl7rJk70V"
      },
      "execution_count": null,
      "outputs": []
    }
  ]
}